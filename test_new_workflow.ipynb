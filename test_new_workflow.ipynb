{
 "cells": [
  {
   "cell_type": "code",
   "execution_count": 1,
   "metadata": {},
   "outputs": [
    {
     "data": {
      "text/plain": [
       "True"
      ]
     },
     "execution_count": 1,
     "metadata": {},
     "output_type": "execute_result"
    }
   ],
   "source": [
    "from dotenv import load_dotenv\n",
    "load_dotenv()"
   ]
  },
  {
   "cell_type": "code",
   "execution_count": 2,
   "metadata": {},
   "outputs": [],
   "source": [
    "from src.nodes.curator_graph import CuratorAgent, TextInput"
   ]
  },
  {
   "cell_type": "code",
   "execution_count": 3,
   "metadata": {},
   "outputs": [],
   "source": [
    "curator = CuratorAgent()"
   ]
  },
  {
   "cell_type": "code",
   "execution_count": 4,
   "metadata": {},
   "outputs": [],
   "source": [
    "caso = \"\"\"Una persona se acerca a mi en un foro de internet de videojuegos y manifiesta conocer a alguien que tiene informacion mia. Se ofrece a hackarle la cuenta de correo para obtenerla. ¿Que debo hacer?\"\"\"\n",
    "\n",
    "similar_cases = []"
   ]
  },
  {
   "cell_type": "code",
   "execution_count": 5,
   "metadata": {},
   "outputs": [],
   "source": [
    "input_text = TextInput(text = caso)"
   ]
  },
  {
   "cell_type": "code",
   "execution_count": 6,
   "metadata": {},
   "outputs": [
    {
     "name": "stdout",
     "output_type": "stream",
     "text": [
      "State after classify:  text='Una persona se acerca a mi en un foro de internet de videojuegos y manifiesta conocer a alguien que tiene informacion mia. Se ofrece a hackarle la cuenta de correo para obtenerla. ¿Que debo hacer?' similar_cases=[] pattern_analysis={'is_fraud': True, 'patterns': ['Solicitation of hacking services', 'Threat of personal information exposure', 'Unsolicited contact from unknown individual'], 'reasoning': 'The text describes a situation where an individual is approached by someone in an online forum who claims to have information about them and offers to hack an email account to obtain more information. This indicates a potential fraud pattern as it involves solicitation for illegal services (hacking) and a threat to personal privacy, which are common tactics used in scams.'} fraud_type={'fraud_type': 'NEW', 'explanation': 'The described pattern involves solicitation for illegal hacking services and threats regarding personal information exposure, which does not fit neatly into the existing categories of fraud. It combines elements of solicitation for illegal activities and threats to privacy, indicating a unique type of fraud that is not explicitly covered by the known types.', 'new_type_name': 'Hacking Solicitation Scam'} final_summary=None is_fraud=True new_type_name='Hacking Solicitation Scam'\n",
      "text='Una persona se acerca a mi en un foro de internet de videojuegos y manifiesta conocer a alguien que tiene informacion mia. Se ofrece a hackarle la cuenta de correo para obtenerla. ¿Que debo hacer?' similar_cases=[] pattern_analysis={'is_fraud': True, 'patterns': ['Solicitation of hacking services', 'Threat of personal information exposure', 'Unsolicited contact from unknown individual'], 'reasoning': 'The text describes a situation where an individual is approached by someone in an online forum who claims to have information about them and offers to hack an email account to obtain more information. This indicates a potential fraud pattern as it involves solicitation for illegal services (hacking) and a threat to personal privacy, which are common tactics used in scams.'} fraud_type={'fraud_type': 'NEW', 'explanation': 'The described pattern involves solicitation for illegal hacking services and threats regarding personal information exposure, which does not fit neatly into the existing categories of fraud. It combines elements of solicitation for illegal activities and threats to privacy, indicating a unique type of fraud that is not explicitly covered by the known types.', 'new_type_name': 'Hacking Solicitation Scam'} final_summary=None is_fraud=True new_type_name='Hacking Solicitation Scam'\n"
     ]
    }
   ],
   "source": [
    "response = curator.analyze_case(input_text, similar_cases)"
   ]
  },
  {
   "cell_type": "code",
   "execution_count": 7,
   "metadata": {},
   "outputs": [
    {
     "data": {
      "text/plain": [
       "FraudAnalysis(is_fraud=True, fraud_type='NEW', explanation=\"The analysis identifies a new type of fraud, termed 'Hacking Solicitation Scam', characterized by solicitation for illegal hacking services and threats to personal information exposure. The situation involves an unsolicited approach from an unknown individual in an online forum, claiming to possess personal information and offering to hack an email account. This pattern highlights the use of illegal service solicitation and privacy threats, common tactics in scams.\", similar_cases=[], timestamp=datetime.datetime(2024, 11, 20, 20, 58, 57, 452172), new_type_name='Hacking Solicitation Scam')"
      ]
     },
     "execution_count": 7,
     "metadata": {},
     "output_type": "execute_result"
    }
   ],
   "source": [
    "response"
   ]
  }
 ],
 "metadata": {
  "kernelspec": {
   "display_name": ".venv",
   "language": "python",
   "name": "python3"
  },
  "language_info": {
   "codemirror_mode": {
    "name": "ipython",
    "version": 3
   },
   "file_extension": ".py",
   "mimetype": "text/x-python",
   "name": "python",
   "nbconvert_exporter": "python",
   "pygments_lexer": "ipython3",
   "version": "3.10.0"
  }
 },
 "nbformat": 4,
 "nbformat_minor": 2
}
