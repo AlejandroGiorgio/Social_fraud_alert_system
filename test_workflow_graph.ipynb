{
 "cells": [
  {
   "cell_type": "code",
   "execution_count": 1,
   "metadata": {},
   "outputs": [
    {
     "data": {
      "text/plain": [
       "True"
      ]
     },
     "execution_count": 1,
     "metadata": {},
     "output_type": "execute_result"
    }
   ],
   "source": [
    "from dotenv import load_dotenv\n",
    "load_dotenv()"
   ]
  },
  {
   "cell_type": "code",
   "execution_count": null,
   "metadata": {},
   "outputs": [],
   "source": [
    "# Bloque 1: Importaciones\n",
    "from src.workflow_graph import run_fraud_detection\n",
    "from src.nodes.utils import EmbeddingStorage, FraudTypeRegistry\n",
    "from src.nodes.receiver import TextPreprocessor\n",
    "from src.nodes.encoder import TextEncoder"
   ]
  },
  {
   "cell_type": "code",
   "execution_count": 11,
   "metadata": {},
   "outputs": [],
   "source": [
    "case = [\"Me llamo alguien diciendo que era del BBVA me dijo que tenia 1 compra en MercadoLibre y que tenía que dar mi autorización.\"]"
   ]
  },
  {
   "cell_type": "code",
   "execution_count": 7,
   "metadata": {},
   "outputs": [],
   "source": [
    "def test_fraud_detection(cases):\n",
    "    results = []\n",
    "    for text in cases:\n",
    "        print(f\"\\nAnalizando: {text[:100]}...\")\n",
    "        try:\n",
    "            preprocessor = TextPreprocessor(min_length=10, max_length=10000)  # Ajusta el preprocesador.\n",
    "            clean_text = preprocessor.clean_text(text)\n",
    "            print(f\"Texto limpio: {clean_text[:100]}...\")\n",
    "            if not preprocessor.is_valid_length(clean_text):\n",
    "                print(f\"Texto no válido por longitud: {len(clean_text)}\")\n",
    "                continue\n",
    "            print(\"entra al workfrlow\")\n",
    "            result = run_fraud_detection(clean_text)\n",
    "            results.append(result)\n",
    "            print(\"Resultado del análisis:\")\n",
    "            for key, value in result.items():\n",
    "                print(f\"{key}: {value}\")\n",
    "        except Exception as e:\n",
    "            print(f\"Error al analizar: {e}\")\n",
    "    return results\n",
    "\n"
   ]
  },
  {
   "cell_type": "code",
   "execution_count": null,
   "metadata": {},
   "outputs": [],
   "source": [
    "result = run_fraud_detection(text=\"\")"
   ]
  },
  {
   "cell_type": "code",
   "execution_count": 12,
   "metadata": {},
   "outputs": [
    {
     "name": "stdout",
     "output_type": "stream",
     "text": [
      "\n",
      "Analizando: Me llamo alguien diciendo que era del BBVA me dijo que tenia 1 compra en MercadoLibre y que tenía qu...\n",
      "Texto limpio: Me llamo alguien diciendo que era del BBVA me dijo que tenia 1 compra en MercadoLibre y que tenía qu...\n",
      "entra al workfrlow\n",
      "State after classify:  text='Me llamo alguien diciendo que era del BBVA me dijo que tenia 1 compra en MercadoLibre y que tena que dar mi autorizacin.' similar_cases=['Me llamo alguien diciendo que era del BBVA me dijo que tenia 1 compra en Amazon y que tena que dar mi autorizacin.'] pattern_analysis={'is_fraud': True, 'patterns': ['Impersonation of a bank representative', 'Request for authorization for a purchase that the victim did not make', 'Mention of a well-known e-commerce platform (MercadoLibre)'], 'reasoning': 'The text describes a scenario where an individual receives a call from someone impersonating a bank representative (BBVA) claiming there is a purchase made on MercadoLibre that requires authorization. This is a common tactic used in fraud schemes to trick individuals into providing personal information or authorizing transactions that they did not initiate. The similarity to other cases where the same pattern is observed (impersonation and unauthorized purchase requests) further supports the determination of fraud.'} fraud_type={'fraud_type': 'IMPERSONATION', 'explanation': 'The fraud pattern involves impersonation of a bank representative to deceive the victim into authorizing a purchase they did not make. This aligns with the known fraud type of impersonation, where the fraudster pretends to be someone the victim trusts to extract sensitive information or gain unauthorized access to their accounts.', 'new_type_name': None} final_summary=None is_fraud=True new_type_name=None\n",
      "text='Me llamo alguien diciendo que era del BBVA me dijo que tenia 1 compra en MercadoLibre y que tena que dar mi autorizacin.' similar_cases=['Me llamo alguien diciendo que era del BBVA me dijo que tenia 1 compra en Amazon y que tena que dar mi autorizacin.'] pattern_analysis={'is_fraud': True, 'patterns': ['Impersonation of a bank representative', 'Request for authorization for a purchase that the victim did not make', 'Mention of a well-known e-commerce platform (MercadoLibre)'], 'reasoning': 'The text describes a scenario where an individual receives a call from someone impersonating a bank representative (BBVA) claiming there is a purchase made on MercadoLibre that requires authorization. This is a common tactic used in fraud schemes to trick individuals into providing personal information or authorizing transactions that they did not initiate. The similarity to other cases where the same pattern is observed (impersonation and unauthorized purchase requests) further supports the determination of fraud.'} fraud_type={'fraud_type': 'IMPERSONATION', 'explanation': 'The fraud pattern involves impersonation of a bank representative to deceive the victim into authorizing a purchase they did not make. This aligns with the known fraud type of impersonation, where the fraudster pretends to be someone the victim trusts to extract sensitive information or gain unauthorized access to their accounts.', 'new_type_name': None} final_summary=None is_fraud=True new_type_name=None\n",
      "Resultado del análisis:\n",
      "is_fraud: True\n",
      "fraud_type: IMPERSONATION\n",
      "explanation: The analysis identifies a fraud scheme involving impersonation of a bank representative, specifically BBVA, who falsely claims that the victim needs to authorize a purchase on MercadoLibre that they did not make. This tactic is commonly used to extract personal information or gain unauthorized access to accounts, indicating a clear pattern of fraud.\n",
      "should_alert: True\n",
      "new_type_name: None\n",
      "similar_cases_count: 1\n"
     ]
    }
   ],
   "source": [
    "result = test_fraud_detection(case)"
   ]
  }
 ],
 "metadata": {
  "kernelspec": {
   "display_name": ".venv",
   "language": "python",
   "name": "python3"
  },
  "language_info": {
   "codemirror_mode": {
    "name": "ipython",
    "version": 3
   },
   "file_extension": ".py",
   "mimetype": "text/x-python",
   "name": "python",
   "nbconvert_exporter": "python",
   "pygments_lexer": "ipython3",
   "version": "3.10.0"
  }
 },
 "nbformat": 4,
 "nbformat_minor": 2
}
