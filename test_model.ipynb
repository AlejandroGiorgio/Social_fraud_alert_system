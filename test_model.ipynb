{
 "cells": [
  {
   "cell_type": "code",
   "execution_count": 1,
   "metadata": {},
   "outputs": [],
   "source": [
    "# Imports and Setup\n",
    "import os\n",
    "import numpy as np\n",
    "from datetime import datetime\n",
    "from typing import Dict, List, Optional\n",
    "import json\n",
    "from pathlib import Path\n"
   ]
  },
  {
   "cell_type": "code",
   "execution_count": 2,
   "metadata": {},
   "outputs": [
    {
     "data": {
      "text/plain": [
       "True"
      ]
     },
     "execution_count": 2,
     "metadata": {},
     "output_type": "execute_result"
    }
   ],
   "source": [
    "from dotenv import load_dotenv\n",
    "load_dotenv()"
   ]
  },
  {
   "cell_type": "code",
   "execution_count": 3,
   "metadata": {},
   "outputs": [],
   "source": [
    "# Import custom components\n",
    "from src.workflow import (\n",
    "    create_workflow,\n",
    "    run_fraud_detection,\n",
    "    FraudDetectionConfig,\n",
    "    WorkflowState\n",
    ")\n",
    "from src.nodes.receiver import TextPreprocessor, TextInput\n",
    "from src.nodes.encoder import TextEncoder\n",
    "from src.nodes.curator import CuratorAgent, FraudAnalysis\n",
    "from src.nodes.utils import EmbeddingStorage, FraudTypeRegistry"
   ]
  },
  {
   "cell_type": "code",
   "execution_count": 4,
   "metadata": {},
   "outputs": [],
   "source": [
    "# 2. Configuración inicial\n",
    "def setup_environment():\n",
    "    \"\"\"Configurar el entorno y directorios necesarios\"\"\"\n",
    "    os.makedirs(\"data/embeddings\", exist_ok=True)\n",
    "    os.makedirs(\"data/fraud_types\", exist_ok=True)\n",
    "    \n",
    "    # Verificar token de HuggingFace\n",
    "    if not os.getenv(\"HUGGINGFACE_TOKEN\"):\n",
    "        raise ValueError(\"HUGGINGFACE_TOKEN no encontrado en variables de entorno\")\n",
    "    \n",
    "    return \"Entorno configurado correctamente\""
   ]
  },
  {
   "cell_type": "code",
   "execution_count": 5,
   "metadata": {},
   "outputs": [
    {
     "data": {
      "text/plain": [
       "'Entorno configurado correctamente'"
      ]
     },
     "execution_count": 5,
     "metadata": {},
     "output_type": "execute_result"
    }
   ],
   "source": [
    "setup_environment()"
   ]
  },
  {
   "cell_type": "code",
   "execution_count": 6,
   "metadata": {},
   "outputs": [],
   "source": [
    "# Test Data\n",
    "test_cases = [\n",
    "    {\n",
    "        \"text\": \"Hello, I am a Nigerian prince and I need your help to transfer $10 million. Please send your bank details.\",\n",
    "        \"expected_fraud\": True,\n",
    "        \"type\": \"FINANCIAL_SCAM\"\n",
    "    },\n",
    "    {\n",
    "        \"text\": \"Your account has been compromised. Click here to verify your identity: http://fake-bank.com\",\n",
    "        \"expected_fraud\": True,\n",
    "        \"type\": \"PHISHING\"\n",
    "    },\n",
    "    {\n",
    "        \"text\": \"Thank you for your purchase. Your order #12345 will arrive tomorrow.\",\n",
    "        \"expected_fraud\": False,\n",
    "        \"type\": None\n",
    "    }\n",
    "]\n"
   ]
  },
  {
   "cell_type": "code",
   "execution_count": 7,
   "metadata": {},
   "outputs": [],
   "source": [
    "# Initialize Components\n",
    "def initialize_components():\n",
    "    \"\"\"Initialize all required components for testing.\"\"\"\n",
    "    preprocessor = TextPreprocessor()\n",
    "    encoder = TextEncoder()\n",
    "    curator = CuratorAgent()\n",
    "    embedding_storage = EmbeddingStorage()\n",
    "    type_registry = FraudTypeRegistry()\n",
    "    \n",
    "    return {\n",
    "        \"preprocessor\": preprocessor,\n",
    "        \"encoder\": encoder,\n",
    "        \"curator\": curator,\n",
    "        \"embedding_storage\": embedding_storage,\n",
    "        \"type_registry\": type_registry\n",
    "    }\n"
   ]
  },
  {
   "cell_type": "code",
   "execution_count": 8,
   "metadata": {},
   "outputs": [
    {
     "data": {
      "text/plain": [
       "{'preprocessor': <src.nodes.receiver.TextPreprocessor at 0x18c812d01f0>,\n",
       " 'encoder': <src.nodes.encoder.TextEncoder at 0x18c812d2fe0>,\n",
       " 'curator': <src.nodes.curator.CuratorAgent at 0x18cbd6b2f20>,\n",
       " 'embedding_storage': <src.nodes.utils.EmbeddingStorage at 0x18cbea1bf40>,\n",
       " 'type_registry': <src.nodes.utils.FraudTypeRegistry at 0x18cbea1a8c0>}"
      ]
     },
     "execution_count": 8,
     "metadata": {},
     "output_type": "execute_result"
    }
   ],
   "source": [
    "initialize_components()"
   ]
  },
  {
   "cell_type": "code",
   "execution_count": 10,
   "metadata": {},
   "outputs": [],
   "source": [
    "# Test Text Preprocessing\n",
    "def test_preprocessor(preprocessor: TextPreprocessor):\n",
    "    \"\"\"Test the text preprocessing component.\"\"\"\n",
    "    print(\"Testing Text Preprocessor...\")\n",
    "    \n",
    "    for case in test_cases:\n",
    "        result = preprocessor.process_text(\n",
    "            case[\"text\"],\n",
    "            source=\"test\",\n",
    "            metadata={\"expected_fraud\": case[\"expected_fraud\"]}\n",
    "        )\n",
    "        \n",
    "        print(f\"\\nInput text: {case['text']}\")\n",
    "        print(f\"Processed text: {result.text if result else 'Invalid input'}\")\n",
    "        print(f\"Valid input: {result is not None}\")\n",
    "        print(\"-\" * 50)"
   ]
  },
  {
   "cell_type": "code",
   "execution_count": 12,
   "metadata": {},
   "outputs": [],
   "source": [
    "# Test Embedding Storage\n",
    "def test_storage(storage: EmbeddingStorage, encoder: TextEncoder, preprocessor: TextPreprocessor):\n",
    "    \"\"\"Test the embedding storage component.\"\"\"\n",
    "    print(\"Testing Embedding Storage...\")\n",
    "    \n",
    "    for i, case in enumerate(test_cases):\n",
    "        text_input = preprocessor.process_text(case[\"text\"], source=\"test\")\n",
    "        if text_input:\n",
    "            embedding = encoder.encode_text(text_input)\n",
    "            \n",
    "            # Save embedding\n",
    "            case_id = f\"test_case_{i}\"\n",
    "            storage.save_embedding(\n",
    "                embedding,\n",
    "                {\n",
    "                    \"text\": text_input.text,\n",
    "                    \"expected_fraud\": case[\"expected_fraud\"],\n",
    "                    \"fraud_type\": case[\"type\"]\n",
    "                },\n",
    "                case_id\n",
    "            )\n",
    "            \n",
    "            # Load and verify\n",
    "            loaded_embedding, loaded_metadata = storage.load_embedding(case_id)\n",
    "            print(f\"\\nCase {i}:\")\n",
    "            print(f\"Original text: {case['text']}\")\n",
    "            print(f\"Embedding matches: {np.allclose(embedding, loaded_embedding)}\")\n",
    "            print(f\"Loaded metadata: {loaded_metadata}\")\n",
    "            print(\"-\" * 50)"
   ]
  },
  {
   "cell_type": "code",
   "execution_count": 13,
   "metadata": {},
   "outputs": [],
   "source": [
    "# Test Text Encoder\n",
    "def test_encoder(encoder: TextEncoder, preprocessor: TextPreprocessor):\n",
    "    \"\"\"Test the text encoding component.\"\"\"\n",
    "    print(\"Testing Text Encoder...\")\n",
    "    \n",
    "    for case in test_cases:\n",
    "        text_input = preprocessor.process_text(case[\"text\"], source=\"test\")\n",
    "        if text_input:\n",
    "            embedding = encoder.encode_text(text_input)\n",
    "            print(f\"\\nInput text: {case['text']}\")\n",
    "            print(f\"Embedding shape: {embedding.shape}\")\n",
    "            print(f\"Embedding norm: {np.linalg.norm(embedding)}\")\n",
    "            print(\"-\" * 50)"
   ]
  },
  {
   "cell_type": "code",
   "execution_count": 14,
   "metadata": {},
   "outputs": [],
   "source": [
    "# Test Complete Workflow\n",
    "def test_workflow(config: FraudDetectionConfig = FraudDetectionConfig()):\n",
    "    \"\"\"Test the complete fraud detection workflow.\"\"\"\n",
    "    print(\"Testing Complete Workflow...\")\n",
    "    \n",
    "    for case in test_cases:\n",
    "        print(f\"\\nTesting case: {case['text'][:50]}...\")\n",
    "        \n",
    "        try:\n",
    "            result = run_fraud_detection(case[\"text\"], config)\n",
    "            \n",
    "            print(\"Results:\")\n",
    "            print(f\"Is fraud: {result['is_fraud']} (Expected: {case['expected_fraud']})\")\n",
    "            print(f\"Confidence: {result['confidence']:.2f}\")\n",
    "            print(f\"Fraud type: {result['fraud_type']} (Expected: {case['type']})\")\n",
    "            print(f\"Explanation: {result['explanation']}\")\n",
    "            print(f\"Similar cases found: {result['similar_cases_count']}\")\n",
    "            print(f\"Should alert: {result['should_alert']}\")\n",
    "            \n",
    "        except Exception as e:\n",
    "            print(f\"Error processing case: {e}\")\n",
    "        \n",
    "        print(\"-\" * 50)"
   ]
  },
  {
   "cell_type": "code",
   "execution_count": 15,
   "metadata": {},
   "outputs": [],
   "source": [
    "# Debug Utilities\n",
    "def inspect_state(state: Dict):\n",
    "    \"\"\"Utility function to inspect workflow state.\"\"\"\n",
    "    state = WorkflowState.model_validate(state)\n",
    "    \n",
    "    print(\"Current State:\")\n",
    "    print(f\"Text input: {state.text_input.text if state.text_input else None}\")\n",
    "    print(f\"Has embeddings: {state.embeddings is not None}\")\n",
    "    print(f\"Similar cases: {len(state.similar_cases or [])}\")\n",
    "    print(f\"Has analysis: {state.analysis is not None}\")\n",
    "    if state.analysis:\n",
    "        print(f\"Analysis results:\")\n",
    "        print(f\"- Is fraud: {state.analysis.is_fraud}\")\n",
    "        print(f\"- Fraud type: {state.analysis.fraud_type}\")\n",
    "        print(f\"- Confidence: {state.analysis.confidence}\")\n",
    "    print(f\"Should alert: {state.should_alert}\")\n"
   ]
  },
  {
   "cell_type": "code",
   "execution_count": 16,
   "metadata": {},
   "outputs": [
    {
     "name": "stdout",
     "output_type": "stream",
     "text": [
      "Testing Text Preprocessor...\n",
      "\n",
      "Input text: Hello, I am a Nigerian prince and I need your help to transfer $10 million. Please send your bank details.\n",
      "Processed text: Hello, I am a Nigerian prince and I need your help to transfer 10 million. Please send your bank details.\n",
      "Valid input: True\n",
      "--------------------------------------------------\n",
      "\n",
      "Input text: Your account has been compromised. Click here to verify your identity: http://fake-bank.com\n",
      "Processed text: Your account has been compromised. Click here to verify your identity\n",
      "Valid input: True\n",
      "--------------------------------------------------\n",
      "\n",
      "Input text: Thank you for your purchase. Your order #12345 will arrive tomorrow.\n",
      "Processed text: Thank you for your purchase. Your order 12345 will arrive tomorrow.\n",
      "Valid input: True\n",
      "--------------------------------------------------\n"
     ]
    },
    {
     "ename": "TypeError",
     "evalue": "test_encoder() missing 1 required positional argument: 'preprocessor'",
     "output_type": "error",
     "traceback": [
      "\u001b[1;31m---------------------------------------------------------------------------\u001b[0m",
      "\u001b[1;31mTypeError\u001b[0m                                 Traceback (most recent call last)",
      "Cell \u001b[1;32mIn[16], line 8\u001b[0m\n\u001b[0;32m      6\u001b[0m \u001b[38;5;66;03m# Run individual component tests\u001b[39;00m\n\u001b[0;32m      7\u001b[0m test_preprocessor(components[\u001b[38;5;124m\"\u001b[39m\u001b[38;5;124mpreprocessor\u001b[39m\u001b[38;5;124m\"\u001b[39m])\n\u001b[1;32m----> 8\u001b[0m \u001b[43mtest_encoder\u001b[49m\u001b[43m(\u001b[49m\u001b[43mcomponents\u001b[49m\u001b[43m[\u001b[49m\u001b[38;5;124;43m\"\u001b[39;49m\u001b[38;5;124;43mencoder\u001b[39;49m\u001b[38;5;124;43m\"\u001b[39;49m\u001b[43m]\u001b[49m\u001b[43m)\u001b[49m\n\u001b[0;32m      9\u001b[0m test_storage(components[\u001b[38;5;124m\"\u001b[39m\u001b[38;5;124membedding_storage\u001b[39m\u001b[38;5;124m\"\u001b[39m], components[\u001b[38;5;124m\"\u001b[39m\u001b[38;5;124mencoder\u001b[39m\u001b[38;5;124m\"\u001b[39m], components[\u001b[38;5;124m\"\u001b[39m\u001b[38;5;124mpreprocessor\u001b[39m\u001b[38;5;124m\"\u001b[39m])\n\u001b[0;32m     11\u001b[0m \u001b[38;5;66;03m# Run complete workflow test\u001b[39;00m\n",
      "\u001b[1;31mTypeError\u001b[0m: test_encoder() missing 1 required positional argument: 'preprocessor'"
     ]
    }
   ],
   "source": [
    "# Run all tests\n",
    "if __name__ == \"__main__\":\n",
    "    # Initialize components\n",
    "    components = initialize_components()\n",
    "    \n",
    "    # Run individual component tests\n",
    "    test_preprocessor(components[\"preprocessor\"])\n",
    "    test_encoder(components[\"encoder\"])\n",
    "    test_storage(components[\"embedding_storage\"], components[\"encoder\"], components[\"preprocessor\"])\n",
    "    \n",
    "    # Run complete workflow test\n",
    "    test_workflow()"
   ]
  }
 ],
 "metadata": {
  "kernelspec": {
   "display_name": ".venv",
   "language": "python",
   "name": "python3"
  },
  "language_info": {
   "codemirror_mode": {
    "name": "ipython",
    "version": 3
   },
   "file_extension": ".py",
   "mimetype": "text/x-python",
   "name": "python",
   "nbconvert_exporter": "python",
   "pygments_lexer": "ipython3",
   "version": "3.10.0"
  }
 },
 "nbformat": 4,
 "nbformat_minor": 2
}
